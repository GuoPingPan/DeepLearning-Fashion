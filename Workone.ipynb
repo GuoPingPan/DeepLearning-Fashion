{
 "cells": [
  {
   "cell_type": "markdown",
   "id": "several-transparency",
   "metadata": {},
   "source": [
    "# Workone:实现FashionMnist识别准确率达90%以上"
   ]
  },
  {
   "cell_type": "code",
   "execution_count": 1,
   "id": "1f45b78a",
   "metadata": {},
   "outputs": [],
   "source": [
    "import time\n",
    "import torch\n",
    "import torch.nn as nn\n",
    "import torch.nn.functional as F\n",
    "from torch.utils.data import DataLoader\n",
    "from torchvision import datasets\n",
    "import torchvision.transforms as transforms\n",
    "from tqdm import tqdm"
   ]
  },
  {
   "cell_type": "markdown",
   "id": "0cfc3560",
   "metadata": {},
   "source": [
    "This project is to classify the FashionMnist Datasets.\n",
    "\n",
    "I had built three models:\n",
    "   \n",
    "   - LeNetv5\n",
    "   - SimpleNet: base on LeNetv5, I simplify the channels and drop Maxpooling.\n",
    "   - CNNmodel: base on LeNetv5, I use padding when convolution for keep the origin size,use xavier to initialize the conv weight\n",
    "\n",
    "Performance:\n",
    "   - LeNetv5: 90.82%\n",
    "   - SimpleNet: 88.91%\n",
    "   - CNNmodel: 90.56%"
   ]
  },
  {
   "cell_type": "markdown",
   "id": "08ceea2b",
   "metadata": {},
   "source": [
    "## Load FashionMnist Dataset"
   ]
  },
  {
   "cell_type": "code",
   "execution_count": 3,
   "id": "5013b4cd",
   "metadata": {},
   "outputs": [],
   "source": [
    "transform = transforms.Compose(\n",
    "    [transforms.ToTensor(),\n",
    "     transforms.Normalize([0.2860,],[0.3526,]),\n",
    "     # transforms.RandomHorizontalFlip()\n",
    "    ]\n",
    ")\n",
    "\n",
    "train_data = datasets.FashionMNIST(\n",
    "    root='mnist',\n",
    "    train=True,\n",
    "    download=False,\n",
    "    transform=transform\n",
    ")\n",
    "\n",
    "test_data = datasets.FashionMNIST(\n",
    "    root='mnist',\n",
    "    train=False,\n",
    "    download=False,\n",
    "    transform=transform\n",
    ")\n"
   ]
  },
  {
   "cell_type": "code",
   "execution_count": null,
   "id": "65220309",
   "metadata": {},
   "outputs": [],
   "source": [
    "batch_size = 32\n",
    "train_loader = DataLoader(train_data,batch_size = batch_size,shuffle=False)\n",
    "test_loader = DataLoader(test_data,batch_size = batch_size,shuffle=False)\n"
   ]
  },
  {
   "cell_type": "code",
   "execution_count": 41,
   "id": "dd50489b",
   "metadata": {},
   "outputs": [],
   "source": [
    "def ComputeMeanAndStd(data):\n",
    "    '''\n",
    "        Compute mean and std for transforms.Normalize()\n",
    "    '''\n",
    "    std = 0.0\n",
    "    mean = 0.0\n",
    "    for X,y in data:\n",
    "        x = X.view(-1,28*28)\n",
    "        std += x.std().item()\n",
    "        mean += x.mean().item()\n",
    "\n",
    "    std /= len(data)\n",
    "    mean /= len(data)\n",
    "    return mean,std"
   ]
  },
  {
   "cell_type": "code",
   "execution_count": 42,
   "id": "14589721",
   "metadata": {},
   "outputs": [],
   "source": [
    "# mean,std = ComputeMeanAndStd(train_loader)\n",
    "# print(mean)\n",
    "# print(std)"
   ]
  },
  {
   "cell_type": "markdown",
   "id": "eab2953f",
   "metadata": {},
   "source": [
    "## Build model"
   ]
  },
  {
   "cell_type": "code",
   "execution_count": 43,
   "id": "1cf2fe10",
   "metadata": {},
   "outputs": [],
   "source": [
    "class LeNetv5(nn.Module):\n",
    "    def __init__(self):\n",
    "        super(LeNetv5, self).__init__()\n",
    "        self.conv1 = nn.Conv2d(1,64,5)# 28-5+1 = 24\n",
    "        # max_pool size = 2 # 12\n",
    "        self.bn1 = nn.BatchNorm2d(64)\n",
    "        self.conv2 = nn.Conv2d(64,128,5) # 12-5+1 = 8\n",
    "        self.bn2 = nn.BatchNorm2d(128)\n",
    "        # max_pool size = 2 # 4\n",
    "        self.flatten = nn.Flatten() # 16*4*4 = 16\n",
    "        self.f1 = nn.Linear(128*4*4,120)\n",
    "        self.f2 = nn.Linear(120,84)\n",
    "        self.f3 = nn.Linear(84,10)\n",
    "        self.maxPool = nn.MaxPool2d(2)\n",
    "        self.relu = nn.ReLU()\n",
    "\n",
    "    def forward(self,x):\n",
    "        x = self.maxPool(self.relu(self.conv1(x)))\n",
    "        x = self.bn1(x)\n",
    "        x = self.maxPool(self.relu(self.conv2(x)))\n",
    "        x = self.bn2(x)\n",
    "        x = self.flatten(x)\n",
    "        x = self.relu(self.f1(x))\n",
    "        x = self.relu(self.f2(x))\n",
    "        x = self.f3(x)\n",
    "        return x\n"
   ]
  },
  {
   "cell_type": "code",
   "execution_count": 44,
   "id": "e7a5ad2d",
   "metadata": {},
   "outputs": [],
   "source": [
    "class SimpleNet(nn.Module):\n",
    "    def __init__(self):\n",
    "        super(SimpleNet, self).__init__()\n",
    "        self.conv1 = nn.Conv2d(1,20,kernel_size=3)\n",
    "        self.bn1 = nn.BatchNorm2d(20)\n",
    "        self.conv2 = nn.Conv2d(20,20,kernel_size=3)\n",
    "        self.bn2 = nn.BatchNorm2d(20)\n",
    "        self.flatten = nn.Flatten()\n",
    "        self.fc1 = nn.Linear(20*24*24,128)\n",
    "        self.fc2 = nn.Linear(128,10)\n",
    "        self.relu = nn.ReLU()\n",
    "    def forward(self,x):\n",
    "        x = self.relu(self.conv1(x))\n",
    "        x = self.bn1(x)\n",
    "        x = self.relu(self.conv2(x))\n",
    "        x = self.bn2(x)\n",
    "        x = self.flatten(x)\n",
    "        x = self.relu(self.fc1(x))\n",
    "        x = self.fc2(x)\n",
    "        return x\n"
   ]
  },
  {
   "cell_type": "code",
   "execution_count": 45,
   "id": "c0e9e003",
   "metadata": {},
   "outputs": [],
   "source": [
    "class CNNmodel(nn.Module):\n",
    "    def __init__(self):\n",
    "        super(CNNmodel, self).__init__()\n",
    "        self.conv1 = nn.Conv2d(1,32,5,1,2)\n",
    "        self.relu1 = nn.ReLU()\n",
    "        self.norm1 = nn.BatchNorm2d(32)\n",
    "        nn.init.xavier_uniform_(self.conv1.weight)\n",
    "\n",
    "        self.maxpool1 = nn.MaxPool2d(2,2)\n",
    "\n",
    "        self.conv2 = nn.Conv2d(32,64,3,1,2)\n",
    "        self.relu2 = nn.ReLU()\n",
    "        self.norm2 = nn.BatchNorm2d(64)\n",
    "        nn.init.xavier_uniform_(self.conv2.weight)\n",
    "\n",
    "        self.maxpool2 = nn.MaxPool2d(2,2)\n",
    "\n",
    "        self.flatten = nn.Flatten()\n",
    "        self.fc1 = nn.Linear(64*8*8,4096)\n",
    "        self.fcrelu = nn.ReLU()\n",
    "        self.fc2 = nn.Linear(4096,10)\n",
    "\n",
    "    def forward(self,x):\n",
    "        out = self.maxpool1(self.norm1(self.relu1(self.conv1(x))))\n",
    "        out = self.maxpool2(self.norm2(self.relu2(self.conv2(out))))\n",
    "        out = self.flatten(out)\n",
    "        out = self.fcrelu(self.fc1(out))\n",
    "        out = self.fc2(out)\n",
    "\n",
    "        return out\n"
   ]
  },
  {
   "cell_type": "markdown",
   "id": "130d0c56",
   "metadata": {},
   "source": [
    "## Train"
   ]
  },
  {
   "cell_type": "code",
   "execution_count": 46,
   "id": "7d79f86d",
   "metadata": {},
   "outputs": [],
   "source": [
    "def train(model,train_loader,loss,optimizer,epochs):\n",
    "    for epoch in range(epochs):\n",
    "        print('-'*100)\n",
    "        print(f\"epoch:{epoch}\")\n",
    "        print('-'*100)\n",
    "        time.sleep(0.25)\n",
    "        model.train()\n",
    "        train_size = len(train_loader.dataset)\n",
    "\n",
    "        for batch, (X, y) in enumerate(tqdm(train_loader)):\n",
    "            # print(X.requires_grad)\n",
    "            X, y = X.to(device), y.to(device)\n",
    "            # print(X.requires_grad)\n",
    "            pred = model(X)\n",
    "            loss = loss_fn(pred, y)\n",
    "            optimizer.zero_grad()\n",
    "            loss.backward()\n",
    "            optimizer.step()\n",
    "\n",
    "            if batch % 100 == 0:\n",
    "                loss = loss.item()\n",
    "                correct = (pred.argmax(1) == y).type(torch.float).sum().item() / batch_size\n",
    "                sample = batch * batch_size\n",
    "                print(f\"Loss:{loss:>6f} , Accuary:{correct * 100:>6f}%\")\n"
   ]
  },
  {
   "cell_type": "code",
   "execution_count": 47,
   "id": "d0754892",
   "metadata": {},
   "outputs": [
    {
     "name": "stdout",
     "output_type": "stream",
     "text": [
      "Use device: cuda\n"
     ]
    }
   ],
   "source": [
    "device = \"cuda\" if torch.cuda.is_available() else \"cpu\"\n",
    "print(f\"Use device: {device}\")"
   ]
  },
  {
   "cell_type": "code",
   "execution_count": 101,
   "id": "f1ebf30a",
   "metadata": {},
   "outputs": [
    {
     "name": "stdout",
     "output_type": "stream",
     "text": [
      "LeNetv5(\n",
      "  (conv1): Conv2d(1, 64, kernel_size=(5, 5), stride=(1, 1))\n",
      "  (bn1): BatchNorm2d(64, eps=1e-05, momentum=0.1, affine=True, track_running_stats=True)\n",
      "  (conv2): Conv2d(64, 128, kernel_size=(5, 5), stride=(1, 1))\n",
      "  (bn2): BatchNorm2d(128, eps=1e-05, momentum=0.1, affine=True, track_running_stats=True)\n",
      "  (flatten): Flatten(start_dim=1, end_dim=-1)\n",
      "  (f1): Linear(in_features=2048, out_features=120, bias=True)\n",
      "  (f2): Linear(in_features=120, out_features=84, bias=True)\n",
      "  (f3): Linear(in_features=84, out_features=10, bias=True)\n",
      "  (maxPool): MaxPool2d(kernel_size=2, stride=2, padding=0, dilation=1, ceil_mode=False)\n",
      "  (relu): ReLU()\n",
      ")\n"
     ]
    }
   ],
   "source": [
    "net = LeNetv5().to(device)#accuary:0.9141\n",
    "print(net)"
   ]
  },
  {
   "cell_type": "code",
   "execution_count": 86,
   "id": "13c2841c",
   "metadata": {},
   "outputs": [],
   "source": [
    "loss_fn = nn.CrossEntropyLoss().to(device)\n",
    "optimizer = torch.optim.SGD(net.parameters(),lr=0.015,momentum=0.9,nesterov=True)"
   ]
  },
  {
   "cell_type": "code",
   "execution_count": 87,
   "id": "440eb9e8",
   "metadata": {
    "scrolled": true
   },
   "outputs": [
    {
     "name": "stdout",
     "output_type": "stream",
     "text": [
      "----------------------------------------------------------------------------------------------------\n",
      "epoch:0\n",
      "----------------------------------------------------------------------------------------------------\n"
     ]
    },
    {
     "name": "stderr",
     "output_type": "stream",
     "text": [
      "  0%|▎                                                                                | 7/1875 [00:00<00:30, 61.41it/s]"
     ]
    },
    {
     "name": "stdout",
     "output_type": "stream",
     "text": [
      "Loss:2.349850 , Accuary:18.750000%\n"
     ]
    },
    {
     "name": "stderr",
     "output_type": "stream",
     "text": [
      "  6%|████▋                                                                          | 112/1875 [00:01<00:26, 65.88it/s]"
     ]
    },
    {
     "name": "stdout",
     "output_type": "stream",
     "text": [
      "Loss:0.630314 , Accuary:75.000000%\n"
     ]
    },
    {
     "name": "stderr",
     "output_type": "stream",
     "text": [
      " 11%|████████▊                                                                      | 210/1875 [00:03<00:25, 66.13it/s]"
     ]
    },
    {
     "name": "stdout",
     "output_type": "stream",
     "text": [
      "Loss:0.253223 , Accuary:93.750000%\n"
     ]
    },
    {
     "name": "stderr",
     "output_type": "stream",
     "text": [
      " 16%|█████████████                                                                  | 309/1875 [00:04<00:23, 66.00it/s]"
     ]
    },
    {
     "name": "stdout",
     "output_type": "stream",
     "text": [
      "Loss:0.582471 , Accuary:81.250000%\n"
     ]
    },
    {
     "name": "stderr",
     "output_type": "stream",
     "text": [
      " 22%|█████████████████▍                                                             | 414/1875 [00:06<00:22, 65.69it/s]"
     ]
    },
    {
     "name": "stdout",
     "output_type": "stream",
     "text": [
      "Loss:0.335582 , Accuary:90.625000%\n"
     ]
    },
    {
     "name": "stderr",
     "output_type": "stream",
     "text": [
      " 27%|█████████████████████▌                                                         | 512/1875 [00:07<00:20, 66.17it/s]"
     ]
    },
    {
     "name": "stdout",
     "output_type": "stream",
     "text": [
      "Loss:0.774256 , Accuary:81.250000%\n"
     ]
    },
    {
     "name": "stderr",
     "output_type": "stream",
     "text": [
      " 33%|█████████████████████████▋                                                     | 610/1875 [00:09<00:19, 65.91it/s]"
     ]
    },
    {
     "name": "stdout",
     "output_type": "stream",
     "text": [
      "Loss:0.392376 , Accuary:84.375000%\n"
     ]
    },
    {
     "name": "stderr",
     "output_type": "stream",
     "text": [
      " 38%|█████████████████████████████▊                                                 | 709/1875 [00:10<00:17, 66.65it/s]"
     ]
    },
    {
     "name": "stdout",
     "output_type": "stream",
     "text": [
      "Loss:0.288655 , Accuary:90.625000%\n"
     ]
    },
    {
     "name": "stderr",
     "output_type": "stream",
     "text": [
      " 43%|██████████████████████████████████                                             | 807/1875 [00:12<00:16, 65.37it/s]"
     ]
    },
    {
     "name": "stdout",
     "output_type": "stream",
     "text": [
      "Loss:0.572831 , Accuary:78.125000%\n"
     ]
    },
    {
     "name": "stderr",
     "output_type": "stream",
     "text": [
      " 49%|██████████████████████████████████████▍                                        | 912/1875 [00:13<00:14, 65.90it/s]"
     ]
    },
    {
     "name": "stdout",
     "output_type": "stream",
     "text": [
      "Loss:0.419828 , Accuary:81.250000%\n"
     ]
    },
    {
     "name": "stderr",
     "output_type": "stream",
     "text": [
      " 54%|██████████████████████████████████████████                                    | 1010/1875 [00:15<00:13, 66.45it/s]"
     ]
    },
    {
     "name": "stdout",
     "output_type": "stream",
     "text": [
      "Loss:0.458288 , Accuary:78.125000%\n"
     ]
    },
    {
     "name": "stderr",
     "output_type": "stream",
     "text": [
      " 59%|██████████████████████████████████████████████▏                               | 1109/1875 [00:16<00:11, 66.47it/s]"
     ]
    },
    {
     "name": "stdout",
     "output_type": "stream",
     "text": [
      "Loss:0.488784 , Accuary:84.375000%\n"
     ]
    },
    {
     "name": "stderr",
     "output_type": "stream",
     "text": [
      " 65%|██████████████████████████████████████████████████▌                           | 1214/1875 [00:18<00:10, 65.26it/s]"
     ]
    },
    {
     "name": "stdout",
     "output_type": "stream",
     "text": [
      "Loss:0.290647 , Accuary:87.500000%\n"
     ]
    },
    {
     "name": "stderr",
     "output_type": "stream",
     "text": [
      " 70%|██████████████████████████████████████████████████████▌                       | 1312/1875 [00:19<00:08, 64.60it/s]"
     ]
    },
    {
     "name": "stdout",
     "output_type": "stream",
     "text": [
      "Loss:0.412397 , Accuary:78.125000%\n"
     ]
    },
    {
     "name": "stderr",
     "output_type": "stream",
     "text": [
      " 75%|██████████████████████████████████████████████████████████▋                   | 1410/1875 [00:21<00:07, 64.03it/s]"
     ]
    },
    {
     "name": "stdout",
     "output_type": "stream",
     "text": [
      "Loss:0.440848 , Accuary:87.500000%\n"
     ]
    },
    {
     "name": "stderr",
     "output_type": "stream",
     "text": [
      " 81%|███████████████████████████████████████████████████████████████               | 1515/1875 [00:23<00:05, 64.01it/s]"
     ]
    },
    {
     "name": "stdout",
     "output_type": "stream",
     "text": [
      "Loss:0.400076 , Accuary:87.500000%\n"
     ]
    },
    {
     "name": "stderr",
     "output_type": "stream",
     "text": [
      " 86%|███████████████████████████████████████████████████████████████████           | 1613/1875 [00:24<00:04, 63.91it/s]"
     ]
    },
    {
     "name": "stdout",
     "output_type": "stream",
     "text": [
      "Loss:0.207205 , Accuary:93.750000%\n"
     ]
    },
    {
     "name": "stderr",
     "output_type": "stream",
     "text": [
      " 91%|███████████████████████████████████████████████████████████████████████▏      | 1711/1875 [00:26<00:02, 63.61it/s]"
     ]
    },
    {
     "name": "stdout",
     "output_type": "stream",
     "text": [
      "Loss:0.557047 , Accuary:81.250000%\n"
     ]
    },
    {
     "name": "stderr",
     "output_type": "stream",
     "text": [
      " 97%|███████████████████████████████████████████████████████████████████████████▍  | 1814/1875 [00:27<00:00, 62.47it/s]"
     ]
    },
    {
     "name": "stdout",
     "output_type": "stream",
     "text": [
      "Loss:0.249628 , Accuary:90.625000%\n"
     ]
    },
    {
     "name": "stderr",
     "output_type": "stream",
     "text": [
      "100%|██████████████████████████████████████████████████████████████████████████████| 1875/1875 [00:28<00:00, 65.16it/s]\n"
     ]
    },
    {
     "name": "stdout",
     "output_type": "stream",
     "text": [
      "----------------------------------------------------------------------------------------------------\n",
      "epoch:1\n",
      "----------------------------------------------------------------------------------------------------\n"
     ]
    },
    {
     "name": "stderr",
     "output_type": "stream",
     "text": [
      "  1%|▌                                                                               | 14/1875 [00:00<00:27, 67.92it/s]"
     ]
    },
    {
     "name": "stdout",
     "output_type": "stream",
     "text": [
      "Loss:0.184659 , Accuary:90.625000%\n"
     ]
    },
    {
     "name": "stderr",
     "output_type": "stream",
     "text": [
      "  6%|████▌                                                                          | 108/1875 [00:01<00:32, 54.56it/s]"
     ]
    },
    {
     "name": "stdout",
     "output_type": "stream",
     "text": [
      "Loss:0.274589 , Accuary:93.750000%\n"
     ]
    },
    {
     "name": "stderr",
     "output_type": "stream",
     "text": [
      " 11%|████████▉                                                                      | 212/1875 [00:03<00:24, 66.61it/s]"
     ]
    },
    {
     "name": "stdout",
     "output_type": "stream",
     "text": [
      "Loss:0.143091 , Accuary:96.875000%\n"
     ]
    },
    {
     "name": "stderr",
     "output_type": "stream",
     "text": [
      " 17%|█████████████                                                                  | 310/1875 [00:04<00:23, 65.37it/s]"
     ]
    },
    {
     "name": "stdout",
     "output_type": "stream",
     "text": [
      "Loss:0.298136 , Accuary:87.500000%\n"
     ]
    },
    {
     "name": "stderr",
     "output_type": "stream",
     "text": [
      " 22%|█████████████████▏                                                             | 409/1875 [00:06<00:21, 67.67it/s]"
     ]
    },
    {
     "name": "stdout",
     "output_type": "stream",
     "text": [
      "Loss:0.239978 , Accuary:87.500000%\n"
     ]
    },
    {
     "name": "stderr",
     "output_type": "stream",
     "text": [
      " 27%|█████████████████████▍                                                         | 508/1875 [00:08<00:23, 57.04it/s]"
     ]
    },
    {
     "name": "stdout",
     "output_type": "stream",
     "text": [
      "Loss:0.328653 , Accuary:90.625000%\n"
     ]
    },
    {
     "name": "stderr",
     "output_type": "stream",
     "text": [
      " 33%|█████████████████████████▊                                                     | 613/1875 [00:09<00:20, 62.53it/s]"
     ]
    },
    {
     "name": "stdout",
     "output_type": "stream",
     "text": [
      "Loss:0.171054 , Accuary:90.625000%\n"
     ]
    },
    {
     "name": "stderr",
     "output_type": "stream",
     "text": [
      " 38%|█████████████████████████████▉                                                 | 710/1875 [00:11<00:20, 58.13it/s]"
     ]
    },
    {
     "name": "stdout",
     "output_type": "stream",
     "text": [
      "Loss:0.325151 , Accuary:93.750000%\n"
     ]
    },
    {
     "name": "stderr",
     "output_type": "stream",
     "text": [
      " 44%|██████████████████████████████████▍                                            | 816/1875 [00:13<00:15, 67.11it/s]"
     ]
    },
    {
     "name": "stdout",
     "output_type": "stream",
     "text": [
      "Loss:0.326845 , Accuary:87.500000%\n"
     ]
    },
    {
     "name": "stderr",
     "output_type": "stream",
     "text": [
      " 48%|██████████████████████████████████████▏                                        | 907/1875 [00:14<00:14, 66.16it/s]"
     ]
    },
    {
     "name": "stdout",
     "output_type": "stream",
     "text": [
      "Loss:0.203499 , Accuary:87.500000%\n"
     ]
    },
    {
     "name": "stderr",
     "output_type": "stream",
     "text": [
      " 54%|██████████████████████████████████████████                                    | 1012/1875 [00:16<00:12, 67.08it/s]"
     ]
    },
    {
     "name": "stdout",
     "output_type": "stream",
     "text": [
      "Loss:0.425458 , Accuary:84.375000%\n"
     ]
    },
    {
     "name": "stderr",
     "output_type": "stream",
     "text": [
      " 59%|██████████████████████████████████████████████▏                               | 1110/1875 [00:17<00:11, 67.14it/s]"
     ]
    },
    {
     "name": "stdout",
     "output_type": "stream",
     "text": [
      "Loss:0.204265 , Accuary:87.500000%\n"
     ]
    },
    {
     "name": "stderr",
     "output_type": "stream",
     "text": [
      " 64%|██████████████████████████████████████████████████▎                           | 1209/1875 [00:18<00:09, 67.17it/s]"
     ]
    },
    {
     "name": "stdout",
     "output_type": "stream",
     "text": [
      "Loss:0.271540 , Accuary:90.625000%\n"
     ]
    },
    {
     "name": "stderr",
     "output_type": "stream",
     "text": [
      " 70%|██████████████████████████████████████████████████████▎                       | 1307/1875 [00:20<00:08, 66.44it/s]"
     ]
    },
    {
     "name": "stdout",
     "output_type": "stream",
     "text": [
      "Loss:0.326742 , Accuary:84.375000%\n"
     ]
    },
    {
     "name": "stderr",
     "output_type": "stream",
     "text": [
      " 75%|██████████████████████████████████████████████████████████▋                   | 1412/1875 [00:22<00:06, 66.73it/s]"
     ]
    },
    {
     "name": "stdout",
     "output_type": "stream",
     "text": [
      "Loss:0.276404 , Accuary:87.500000%\n"
     ]
    },
    {
     "name": "stderr",
     "output_type": "stream",
     "text": [
      " 80%|██████████████████████████████████████████████████████████████▊               | 1509/1875 [00:23<00:06, 57.85it/s]"
     ]
    },
    {
     "name": "stdout",
     "output_type": "stream",
     "text": [
      "Loss:0.303901 , Accuary:84.375000%\n"
     ]
    },
    {
     "name": "stderr",
     "output_type": "stream",
     "text": [
      " 86%|███████████████████████████████████████████████████████████████████           | 1612/1875 [00:25<00:04, 63.47it/s]"
     ]
    },
    {
     "name": "stdout",
     "output_type": "stream",
     "text": [
      "Loss:0.170152 , Accuary:87.500000%\n"
     ]
    },
    {
     "name": "stderr",
     "output_type": "stream",
     "text": [
      " 91%|███████████████████████████████████████████████████████████████████████▏      | 1710/1875 [00:26<00:02, 65.59it/s]"
     ]
    },
    {
     "name": "stdout",
     "output_type": "stream",
     "text": [
      "Loss:0.292147 , Accuary:87.500000%\n"
     ]
    },
    {
     "name": "stderr",
     "output_type": "stream",
     "text": [
      " 96%|███████████████████████████████████████████████████████████████████████████▏  | 1808/1875 [00:28<00:01, 54.93it/s]"
     ]
    },
    {
     "name": "stdout",
     "output_type": "stream",
     "text": [
      "Loss:0.160229 , Accuary:96.875000%\n"
     ]
    },
    {
     "name": "stderr",
     "output_type": "stream",
     "text": [
      "100%|██████████████████████████████████████████████████████████████████████████████| 1875/1875 [00:29<00:00, 63.51it/s]\n"
     ]
    },
    {
     "name": "stdout",
     "output_type": "stream",
     "text": [
      "----------------------------------------------------------------------------------------------------\n",
      "epoch:2\n",
      "----------------------------------------------------------------------------------------------------\n"
     ]
    },
    {
     "name": "stderr",
     "output_type": "stream",
     "text": [
      "  1%|▌                                                                               | 14/1875 [00:00<00:28, 65.91it/s]"
     ]
    },
    {
     "name": "stdout",
     "output_type": "stream",
     "text": [
      "Loss:0.126611 , Accuary:93.750000%\n"
     ]
    },
    {
     "name": "stderr",
     "output_type": "stream",
     "text": [
      "  6%|████▋                                                                          | 112/1875 [00:01<00:26, 66.10it/s]"
     ]
    },
    {
     "name": "stdout",
     "output_type": "stream",
     "text": [
      "Loss:0.150013 , Accuary:96.875000%\n"
     ]
    },
    {
     "name": "stderr",
     "output_type": "stream",
     "text": [
      " 11%|████████▊                                                                      | 210/1875 [00:03<00:25, 64.77it/s]"
     ]
    },
    {
     "name": "stdout",
     "output_type": "stream",
     "text": [
      "Loss:0.136523 , Accuary:96.875000%\n"
     ]
    },
    {
     "name": "stderr",
     "output_type": "stream",
     "text": [
      " 17%|█████████████▎                                                                 | 316/1875 [00:04<00:23, 67.31it/s]"
     ]
    },
    {
     "name": "stdout",
     "output_type": "stream",
     "text": [
      "Loss:0.187342 , Accuary:93.750000%\n"
     ]
    },
    {
     "name": "stderr",
     "output_type": "stream",
     "text": [
      " 22%|█████████████████▍                                                             | 414/1875 [00:06<00:21, 66.83it/s]"
     ]
    },
    {
     "name": "stdout",
     "output_type": "stream",
     "text": [
      "Loss:0.157891 , Accuary:90.625000%\n"
     ]
    },
    {
     "name": "stderr",
     "output_type": "stream",
     "text": [
      " 27%|█████████████████████▍                                                         | 510/1875 [00:07<00:24, 54.84it/s]"
     ]
    },
    {
     "name": "stdout",
     "output_type": "stream",
     "text": [
      "Loss:0.198272 , Accuary:93.750000%\n"
     ]
    },
    {
     "name": "stderr",
     "output_type": "stream",
     "text": [
      " 33%|█████████████████████████▊                                                     | 613/1875 [00:09<00:21, 59.16it/s]"
     ]
    },
    {
     "name": "stdout",
     "output_type": "stream",
     "text": [
      "Loss:0.159379 , Accuary:90.625000%\n"
     ]
    },
    {
     "name": "stderr",
     "output_type": "stream",
     "text": [
      " 38%|█████████████████████████████▉                                                 | 711/1875 [00:11<00:17, 67.01it/s]"
     ]
    },
    {
     "name": "stdout",
     "output_type": "stream",
     "text": [
      "Loss:0.262361 , Accuary:96.875000%\n"
     ]
    },
    {
     "name": "stderr",
     "output_type": "stream",
     "text": [
      " 43%|██████████████████████████████████                                             | 809/1875 [00:12<00:16, 66.31it/s]"
     ]
    },
    {
     "name": "stdout",
     "output_type": "stream",
     "text": [
      "Loss:0.244801 , Accuary:87.500000%\n"
     ]
    },
    {
     "name": "stderr",
     "output_type": "stream",
     "text": [
      " 49%|██████████████████████████████████████▍                                        | 913/1875 [00:14<00:16, 59.37it/s]"
     ]
    },
    {
     "name": "stdout",
     "output_type": "stream",
     "text": [
      "Loss:0.106163 , Accuary:100.000000%\n"
     ]
    },
    {
     "name": "stderr",
     "output_type": "stream",
     "text": [
      " 54%|██████████████████████████████████████████                                    | 1011/1875 [00:15<00:14, 59.91it/s]"
     ]
    },
    {
     "name": "stdout",
     "output_type": "stream",
     "text": [
      "Loss:0.481616 , Accuary:78.125000%\n"
     ]
    },
    {
     "name": "stderr",
     "output_type": "stream",
     "text": [
      " 59%|██████████████████████████████████████████████▏                               | 1111/1875 [00:17<00:11, 64.97it/s]"
     ]
    },
    {
     "name": "stdout",
     "output_type": "stream",
     "text": [
      "Loss:0.152394 , Accuary:93.750000%\n"
     ]
    },
    {
     "name": "stderr",
     "output_type": "stream",
     "text": [
      " 64%|██████████████████████████████████████████████████▎                           | 1209/1875 [00:18<00:10, 65.17it/s]"
     ]
    },
    {
     "name": "stdout",
     "output_type": "stream",
     "text": [
      "Loss:0.221345 , Accuary:90.625000%\n"
     ]
    },
    {
     "name": "stderr",
     "output_type": "stream",
     "text": [
      " 70%|██████████████████████████████████████████████████████▋                       | 1314/1875 [00:20<00:08, 66.77it/s]"
     ]
    },
    {
     "name": "stdout",
     "output_type": "stream",
     "text": [
      "Loss:0.240465 , Accuary:93.750000%\n"
     ]
    },
    {
     "name": "stderr",
     "output_type": "stream",
     "text": [
      " 75%|██████████████████████████████████████████████████████████▋                   | 1412/1875 [00:21<00:07, 65.82it/s]"
     ]
    },
    {
     "name": "stdout",
     "output_type": "stream",
     "text": [
      "Loss:0.179394 , Accuary:93.750000%\n"
     ]
    },
    {
     "name": "stderr",
     "output_type": "stream",
     "text": [
      " 80%|██████████████████████████████████████████████████████████████▊               | 1509/1875 [00:23<00:07, 48.18it/s]"
     ]
    },
    {
     "name": "stdout",
     "output_type": "stream",
     "text": [
      "Loss:0.245004 , Accuary:93.750000%\n"
     ]
    },
    {
     "name": "stderr",
     "output_type": "stream",
     "text": [
      " 86%|██████████████████████████████████████████████████████████████████▊           | 1607/1875 [00:25<00:04, 65.12it/s]"
     ]
    },
    {
     "name": "stdout",
     "output_type": "stream",
     "text": [
      "Loss:0.120700 , Accuary:96.875000%\n"
     ]
    },
    {
     "name": "stderr",
     "output_type": "stream",
     "text": [
      " 91%|███████████████████████████████████████████████████████████████████████       | 1708/1875 [00:26<00:02, 59.38it/s]"
     ]
    },
    {
     "name": "stdout",
     "output_type": "stream",
     "text": [
      "Loss:0.222029 , Accuary:93.750000%\n"
     ]
    },
    {
     "name": "stderr",
     "output_type": "stream",
     "text": [
      " 97%|███████████████████████████████████████████████████████████████████████████▍  | 1813/1875 [00:28<00:01, 59.08it/s]"
     ]
    },
    {
     "name": "stdout",
     "output_type": "stream",
     "text": [
      "Loss:0.153431 , Accuary:96.875000%\n"
     ]
    },
    {
     "name": "stderr",
     "output_type": "stream",
     "text": [
      "100%|██████████████████████████████████████████████████████████████████████████████| 1875/1875 [00:29<00:00, 63.13it/s]\n"
     ]
    },
    {
     "name": "stdout",
     "output_type": "stream",
     "text": [
      "----------------------------------------------------------------------------------------------------\n",
      "epoch:3\n",
      "----------------------------------------------------------------------------------------------------\n"
     ]
    },
    {
     "name": "stderr",
     "output_type": "stream",
     "text": [
      "  0%|▎                                                                                | 7/1875 [00:00<00:30, 60.84it/s]"
     ]
    },
    {
     "name": "stdout",
     "output_type": "stream",
     "text": [
      "Loss:0.044676 , Accuary:96.875000%\n"
     ]
    },
    {
     "name": "stderr",
     "output_type": "stream",
     "text": [
      "  6%|████▌                                                                          | 108/1875 [00:01<00:29, 59.72it/s]"
     ]
    },
    {
     "name": "stdout",
     "output_type": "stream",
     "text": [
      "Loss:0.097861 , Accuary:96.875000%\n"
     ]
    },
    {
     "name": "stderr",
     "output_type": "stream",
     "text": [
      " 11%|████████▉                                                                      | 213/1875 [00:03<00:31, 53.47it/s]"
     ]
    },
    {
     "name": "stdout",
     "output_type": "stream",
     "text": [
      "Loss:0.081668 , Accuary:96.875000%\n"
     ]
    },
    {
     "name": "stderr",
     "output_type": "stream",
     "text": [
      " 16%|█████████████                                                                  | 309/1875 [00:05<00:24, 62.94it/s]"
     ]
    },
    {
     "name": "stdout",
     "output_type": "stream",
     "text": [
      "Loss:0.149975 , Accuary:93.750000%\n"
     ]
    },
    {
     "name": "stderr",
     "output_type": "stream",
     "text": [
      " 22%|█████████████████▏                                                             | 407/1875 [00:06<00:22, 65.58it/s]"
     ]
    },
    {
     "name": "stdout",
     "output_type": "stream",
     "text": [
      "Loss:0.153716 , Accuary:90.625000%\n"
     ]
    },
    {
     "name": "stderr",
     "output_type": "stream",
     "text": [
      " 27%|█████████████████████▍                                                         | 509/1875 [00:08<00:22, 60.54it/s]"
     ]
    },
    {
     "name": "stdout",
     "output_type": "stream",
     "text": [
      "Loss:0.229368 , Accuary:93.750000%\n"
     ]
    },
    {
     "name": "stderr",
     "output_type": "stream",
     "text": [
      " 32%|█████████████████████████▌                                                     | 607/1875 [00:10<00:21, 59.84it/s]"
     ]
    },
    {
     "name": "stdout",
     "output_type": "stream",
     "text": [
      "Loss:0.121540 , Accuary:93.750000%\n"
     ]
    },
    {
     "name": "stderr",
     "output_type": "stream",
     "text": [
      " 38%|█████████████████████████████▉                                                 | 712/1875 [00:11<00:18, 64.40it/s]"
     ]
    },
    {
     "name": "stdout",
     "output_type": "stream",
     "text": [
      "Loss:0.200933 , Accuary:96.875000%\n"
     ]
    },
    {
     "name": "stderr",
     "output_type": "stream",
     "text": [
      " 43%|██████████████████████████████████▏                                            | 810/1875 [00:13<00:16, 65.44it/s]"
     ]
    },
    {
     "name": "stdout",
     "output_type": "stream",
     "text": [
      "Loss:0.263462 , Accuary:84.375000%\n"
     ]
    },
    {
     "name": "stderr",
     "output_type": "stream",
     "text": [
      " 49%|██████████████████████████████████████▍                                        | 912/1875 [00:14<00:16, 59.84it/s]"
     ]
    },
    {
     "name": "stdout",
     "output_type": "stream",
     "text": [
      "Loss:0.022553 , Accuary:100.000000%\n"
     ]
    },
    {
     "name": "stderr",
     "output_type": "stream",
     "text": [
      " 54%|██████████████████████████████████████████▏                                   | 1013/1875 [00:16<00:13, 64.41it/s]"
     ]
    },
    {
     "name": "stdout",
     "output_type": "stream",
     "text": [
      "Loss:0.561362 , Accuary:84.375000%\n"
     ]
    },
    {
     "name": "stderr",
     "output_type": "stream",
     "text": [
      " 59%|██████████████████████████████████████████████▏                               | 1111/1875 [00:18<00:11, 66.57it/s]"
     ]
    },
    {
     "name": "stdout",
     "output_type": "stream",
     "text": [
      "Loss:0.142340 , Accuary:90.625000%\n"
     ]
    },
    {
     "name": "stderr",
     "output_type": "stream",
     "text": [
      " 64%|██████████████████████████████████████████████████▎                           | 1209/1875 [00:19<00:09, 66.94it/s]"
     ]
    },
    {
     "name": "stdout",
     "output_type": "stream",
     "text": [
      "Loss:0.112528 , Accuary:96.875000%\n"
     ]
    },
    {
     "name": "stderr",
     "output_type": "stream",
     "text": [
      " 70%|██████████████████████████████████████████████████████▋                       | 1314/1875 [00:21<00:08, 67.00it/s]"
     ]
    },
    {
     "name": "stdout",
     "output_type": "stream",
     "text": [
      "Loss:0.179275 , Accuary:93.750000%\n"
     ]
    },
    {
     "name": "stderr",
     "output_type": "stream",
     "text": [
      " 75%|██████████████████████████████████████████████████████████▋                   | 1412/1875 [00:22<00:06, 66.28it/s]"
     ]
    },
    {
     "name": "stdout",
     "output_type": "stream",
     "text": [
      "Loss:0.173558 , Accuary:93.750000%\n"
     ]
    },
    {
     "name": "stderr",
     "output_type": "stream",
     "text": [
      " 81%|██████████████████████████████████████████████████████████████▊               | 1510/1875 [00:24<00:05, 66.54it/s]"
     ]
    },
    {
     "name": "stdout",
     "output_type": "stream",
     "text": [
      "Loss:0.211320 , Accuary:93.750000%\n"
     ]
    },
    {
     "name": "stderr",
     "output_type": "stream",
     "text": [
      " 86%|██████████████████████████████████████████████████████████████████▉           | 1609/1875 [00:25<00:03, 67.08it/s]"
     ]
    },
    {
     "name": "stdout",
     "output_type": "stream",
     "text": [
      "Loss:0.072419 , Accuary:96.875000%\n"
     ]
    },
    {
     "name": "stderr",
     "output_type": "stream",
     "text": [
      " 91%|███████████████████████████████████████████████████████████████████████▎      | 1714/1875 [00:27<00:02, 66.46it/s]"
     ]
    },
    {
     "name": "stdout",
     "output_type": "stream",
     "text": [
      "Loss:0.090194 , Accuary:96.875000%\n"
     ]
    },
    {
     "name": "stderr",
     "output_type": "stream",
     "text": [
      " 97%|███████████████████████████████████████████████████████████████████████████▍  | 1812/1875 [00:28<00:00, 66.14it/s]"
     ]
    },
    {
     "name": "stdout",
     "output_type": "stream",
     "text": [
      "Loss:0.078481 , Accuary:100.000000%\n"
     ]
    },
    {
     "name": "stderr",
     "output_type": "stream",
     "text": [
      "100%|██████████████████████████████████████████████████████████████████████████████| 1875/1875 [00:29<00:00, 63.62it/s]\n"
     ]
    },
    {
     "name": "stdout",
     "output_type": "stream",
     "text": [
      "----------------------------------------------------------------------------------------------------\n",
      "epoch:4\n",
      "----------------------------------------------------------------------------------------------------\n"
     ]
    },
    {
     "name": "stderr",
     "output_type": "stream",
     "text": [
      "  1%|▌                                                                               | 14/1875 [00:00<00:27, 68.16it/s]"
     ]
    },
    {
     "name": "stdout",
     "output_type": "stream",
     "text": [
      "Loss:0.019383 , Accuary:100.000000%\n"
     ]
    },
    {
     "name": "stderr",
     "output_type": "stream",
     "text": [
      "  6%|████▋                                                                          | 112/1875 [00:01<00:26, 67.01it/s]"
     ]
    },
    {
     "name": "stdout",
     "output_type": "stream",
     "text": [
      "Loss:0.094487 , Accuary:93.750000%\n"
     ]
    },
    {
     "name": "stderr",
     "output_type": "stream",
     "text": [
      " 11%|████████▊                                                                      | 210/1875 [00:03<00:24, 66.82it/s]"
     ]
    },
    {
     "name": "stdout",
     "output_type": "stream",
     "text": [
      "Loss:0.022963 , Accuary:100.000000%\n"
     ]
    },
    {
     "name": "stderr",
     "output_type": "stream",
     "text": [
      " 16%|████████████▊                                                                  | 305/1875 [00:04<00:36, 42.67it/s]"
     ]
    },
    {
     "name": "stdout",
     "output_type": "stream",
     "text": [
      "Loss:0.103384 , Accuary:93.750000%\n"
     ]
    },
    {
     "name": "stderr",
     "output_type": "stream",
     "text": [
      " 22%|█████████████████                                                              | 406/1875 [00:07<00:42, 34.92it/s]"
     ]
    },
    {
     "name": "stdout",
     "output_type": "stream",
     "text": [
      "Loss:0.026213 , Accuary:100.000000%\n"
     ]
    },
    {
     "name": "stderr",
     "output_type": "stream",
     "text": [
      " 27%|█████████████████████▍                                                         | 508/1875 [00:09<00:28, 48.50it/s]"
     ]
    },
    {
     "name": "stdout",
     "output_type": "stream",
     "text": [
      "Loss:0.141880 , Accuary:93.750000%\n"
     ]
    },
    {
     "name": "stderr",
     "output_type": "stream",
     "text": [
      " 33%|█████████████████████████▊                                                     | 612/1875 [00:11<00:20, 63.01it/s]"
     ]
    },
    {
     "name": "stdout",
     "output_type": "stream",
     "text": [
      "Loss:0.181456 , Accuary:90.625000%\n"
     ]
    },
    {
     "name": "stderr",
     "output_type": "stream",
     "text": [
      " 38%|█████████████████████████████▉                                                 | 710/1875 [00:12<00:18, 63.63it/s]"
     ]
    },
    {
     "name": "stdout",
     "output_type": "stream",
     "text": [
      "Loss:0.117695 , Accuary:96.875000%\n"
     ]
    },
    {
     "name": "stderr",
     "output_type": "stream",
     "text": [
      " 43%|██████████████████████████████████                                             | 809/1875 [00:14<00:15, 66.96it/s]"
     ]
    },
    {
     "name": "stdout",
     "output_type": "stream",
     "text": [
      "Loss:0.117766 , Accuary:93.750000%\n"
     ]
    },
    {
     "name": "stderr",
     "output_type": "stream",
     "text": [
      " 48%|██████████████████████████████████████▏                                        | 907/1875 [00:15<00:15, 62.91it/s]"
     ]
    },
    {
     "name": "stdout",
     "output_type": "stream",
     "text": [
      "Loss:0.024771 , Accuary:100.000000%\n"
     ]
    },
    {
     "name": "stderr",
     "output_type": "stream",
     "text": [
      " 54%|██████████████████████████████████████████                                    | 1011/1875 [00:17<00:14, 59.51it/s]"
     ]
    },
    {
     "name": "stdout",
     "output_type": "stream",
     "text": [
      "Loss:0.256163 , Accuary:90.625000%\n"
     ]
    },
    {
     "name": "stderr",
     "output_type": "stream",
     "text": [
      " 59%|██████████████████████████████████████████████▎                               | 1114/1875 [00:19<00:13, 58.06it/s]"
     ]
    },
    {
     "name": "stdout",
     "output_type": "stream",
     "text": [
      "Loss:0.056604 , Accuary:100.000000%\n"
     ]
    },
    {
     "name": "stderr",
     "output_type": "stream",
     "text": [
      " 65%|██████████████████████████████████████████████████▍                           | 1212/1875 [00:20<00:10, 61.51it/s]"
     ]
    },
    {
     "name": "stdout",
     "output_type": "stream",
     "text": [
      "Loss:0.180839 , Accuary:90.625000%\n"
     ]
    },
    {
     "name": "stderr",
     "output_type": "stream",
     "text": [
      " 70%|██████████████████████████████████████████████████████▍                       | 1310/1875 [00:22<00:08, 64.46it/s]"
     ]
    },
    {
     "name": "stdout",
     "output_type": "stream",
     "text": [
      "Loss:0.099086 , Accuary:93.750000%\n"
     ]
    },
    {
     "name": "stderr",
     "output_type": "stream",
     "text": [
      " 75%|██████████████████████████████████████████████████████████▌                   | 1409/1875 [00:23<00:06, 67.14it/s]"
     ]
    },
    {
     "name": "stdout",
     "output_type": "stream",
     "text": [
      "Loss:0.070665 , Accuary:93.750000%\n"
     ]
    },
    {
     "name": "stderr",
     "output_type": "stream",
     "text": [
      " 80%|██████████████████████████████████████████████████████████████▋               | 1507/1875 [00:25<00:05, 66.43it/s]"
     ]
    },
    {
     "name": "stdout",
     "output_type": "stream",
     "text": [
      "Loss:0.222081 , Accuary:87.500000%\n"
     ]
    },
    {
     "name": "stderr",
     "output_type": "stream",
     "text": [
      " 86%|███████████████████████████████████████████████████████████████████           | 1612/1875 [00:26<00:04, 65.36it/s]"
     ]
    },
    {
     "name": "stdout",
     "output_type": "stream",
     "text": [
      "Loss:0.080569 , Accuary:93.750000%\n"
     ]
    },
    {
     "name": "stderr",
     "output_type": "stream",
     "text": [
      " 91%|███████████████████████████████████████████████████████████████████████▏      | 1710/1875 [00:28<00:02, 66.42it/s]"
     ]
    },
    {
     "name": "stdout",
     "output_type": "stream",
     "text": [
      "Loss:0.054739 , Accuary:100.000000%\n"
     ]
    },
    {
     "name": "stderr",
     "output_type": "stream",
     "text": [
      " 96%|███████████████████████████████████████████████████████████████████████████▎  | 1809/1875 [00:29<00:00, 66.02it/s]"
     ]
    },
    {
     "name": "stdout",
     "output_type": "stream",
     "text": [
      "Loss:0.086199 , Accuary:93.750000%\n"
     ]
    },
    {
     "name": "stderr",
     "output_type": "stream",
     "text": [
      "100%|██████████████████████████████████████████████████████████████████████████████| 1875/1875 [00:30<00:00, 61.03it/s]\n"
     ]
    }
   ],
   "source": [
    "train(net,train_loader,loss_fn,optimizer,epochs=5)"
   ]
  },
  {
   "cell_type": "markdown",
   "id": "e896efb1",
   "metadata": {},
   "source": [
    "## Test"
   ]
  },
  {
   "cell_type": "code",
   "execution_count": 93,
   "id": "eaf26f73",
   "metadata": {},
   "outputs": [],
   "source": [
    "def test(model,test_loader,loss_fn):\n",
    "    test_size = len(test_loader.dataset)\n",
    "    model.eval()\n",
    "    total_loss = 0\n",
    "    correct = 0\n",
    "    with torch.no_grad():\n",
    "        for batch,(X,y) in enumerate(test_loader):\n",
    "            X,y = X.to(device),y.to(device)\n",
    "            pred = net(X)\n",
    "            loss = loss_fn(pred,y).item()\n",
    "            total_loss += loss\n",
    "            correct += (pred.argmax(1)==y).type(torch.float).sum().item()\n",
    "            if batch % 20 == 0:\n",
    "                print(f\"Test -- process:[{batch*batch_size:>6d}/{test_size:<6d}] loss:{loss:>4f} , accuary:{(correct/((batch+1)*batch_size))*100:>7f}%\")\n",
    "        print(f\"Total -- total_loss:{total_loss/batch_size} , accuary:{correct*100/test_size}%\")\n"
   ]
  },
  {
   "cell_type": "code",
   "execution_count": 94,
   "id": "27ff2f5d",
   "metadata": {},
   "outputs": [
    {
     "name": "stdout",
     "output_type": "stream",
     "text": [
      "Test -- process:[     0/10000 ] loss:0.203414 , accuary:93.750000%\n",
      "Test -- process:[   640/10000 ] loss:0.325253 , accuary:91.815476%\n",
      "Test -- process:[  1280/10000 ] loss:0.514904 , accuary:90.777439%\n",
      "Test -- process:[  1920/10000 ] loss:0.285554 , accuary:91.290984%\n",
      "Test -- process:[  2560/10000 ] loss:0.301694 , accuary:91.010802%\n",
      "Test -- process:[  3200/10000 ] loss:0.343973 , accuary:90.501238%\n",
      "Test -- process:[  3840/10000 ] loss:0.534036 , accuary:90.134298%\n",
      "Test -- process:[  4480/10000 ] loss:0.069310 , accuary:90.203901%\n",
      "Test -- process:[  5120/10000 ] loss:0.176400 , accuary:90.159161%\n",
      "Test -- process:[  5760/10000 ] loss:0.186525 , accuary:90.003453%\n",
      "Test -- process:[  6400/10000 ] loss:0.301326 , accuary:90.158582%\n",
      "Test -- process:[  7040/10000 ] loss:0.117950 , accuary:90.101810%\n",
      "Test -- process:[  7680/10000 ] loss:0.035395 , accuary:90.326763%\n",
      "Test -- process:[  8320/10000 ] loss:0.127389 , accuary:90.445402%\n",
      "Test -- process:[  8960/10000 ] loss:0.019366 , accuary:90.491548%\n",
      "Test -- process:[  9600/10000 ] loss:0.308135 , accuary:90.531561%\n",
      "Total -- total_loss:3.470270963443909 , accuary:90.56%\n"
     ]
    }
   ],
   "source": [
    "test(net,test_loader,loss_fn)"
   ]
  },
  {
   "cell_type": "markdown",
   "id": "fb8cfed1",
   "metadata": {},
   "source": [
    "## Save Model"
   ]
  },
  {
   "cell_type": "code",
   "execution_count": 95,
   "id": "49c0a52d",
   "metadata": {},
   "outputs": [],
   "source": [
    "def save_model(model,name):\n",
    "    import os\n",
    "    if not os.path.exists(\"./model\"):\n",
    "        os.makedirs(\"./model\")\n",
    "    if not os.path.exists(\"./model/\"+name):\n",
    "        torch.save(model.state_dict(),'model/'+name)\n",
    "        print(f\"Successfully save the model:{name}!\")\n",
    "    else:\n",
    "        print(f\"the model:[{name}] already exits, please delete first before you save new one!\")\n",
    "    "
   ]
  },
  {
   "cell_type": "code",
   "execution_count": 96,
   "id": "386c07e6",
   "metadata": {},
   "outputs": [
    {
     "name": "stdout",
     "output_type": "stream",
     "text": [
      "the model:[cnnmodel.pth] already exits, please delete first before you save new one!\n"
     ]
    }
   ],
   "source": [
    "save_model(net,\"cnnmodel.pth\")"
   ]
  },
  {
   "cell_type": "markdown",
   "id": "fb2f5597",
   "metadata": {},
   "source": [
    "## Load Model"
   ]
  },
  {
   "cell_type": "code",
   "execution_count": 103,
   "id": "eb53c007",
   "metadata": {},
   "outputs": [],
   "source": [
    "def load_model(model,model_pth):\n",
    "    model = model\n",
    "    model.load_state_dict(torch.load(model_pth))\n",
    "    dataloader = DataLoader(test_data,batch_size=batch_size,shuffle=True)\n",
    "    model.to(device)\n",
    "    model.eval()\n",
    "    correct = 0.0\n",
    "    with torch.no_grad():\n",
    "        for X,y in dataloader:\n",
    "            X,y = X.to(device),y.to(device)\n",
    "            pred = model(X)\n",
    "            correct += (pred.argmax(1)==y).type(torch.float).sum().item()\n",
    "        size = len(dataloader.dataset)\n",
    "        print(f\"Accuary:{correct*100.0/size:>4f}%\")\n",
    "\n"
   ]
  },
  {
   "cell_type": "code",
   "execution_count": 107,
   "id": "c12f73f6",
   "metadata": {},
   "outputs": [
    {
     "name": "stdout",
     "output_type": "stream",
     "text": [
      "Accuary:90.560000%\n"
     ]
    }
   ],
   "source": [
    "load_model(CNNmodel(),\"model/cnnmodel.pth\")"
   ]
  },
  {
   "cell_type": "code",
   "execution_count": null,
   "id": "2b477940",
   "metadata": {},
   "outputs": [],
   "source": []
  }
 ],
 "metadata": {
  "kernelspec": {
   "display_name": "torch1.10",
   "language": "python",
   "name": "torch1.10"
  },
  "language_info": {
   "codemirror_mode": {
    "name": "ipython",
    "version": 3
   },
   "file_extension": ".py",
   "mimetype": "text/x-python",
   "name": "python",
   "nbconvert_exporter": "python",
   "pygments_lexer": "ipython3",
   "version": "3.8.12"
  },
  "toc": {
   "base_numbering": 1,
   "nav_menu": {},
   "number_sections": true,
   "sideBar": true,
   "skip_h1_title": false,
   "title_cell": "Table of Contents",
   "title_sidebar": "Contents",
   "toc_cell": false,
   "toc_position": {},
   "toc_section_display": true,
   "toc_window_display": false
  }
 },
 "nbformat": 4,
 "nbformat_minor": 5
}
